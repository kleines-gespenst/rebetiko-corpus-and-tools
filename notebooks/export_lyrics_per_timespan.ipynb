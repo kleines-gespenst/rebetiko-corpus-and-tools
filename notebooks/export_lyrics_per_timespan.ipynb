{
 "cells": [
  {
   "cell_type": "markdown",
   "metadata": {},
   "source": [
    "# Export Lyrics for Trend Analysis"
   ]
  },
  {
   "cell_type": "code",
   "execution_count": 1,
   "metadata": {},
   "outputs": [],
   "source": [
    "import json\n",
    "import pathlib\n",
    "\n",
    "from collections import defaultdict\n",
    "import math"
   ]
  },
  {
   "cell_type": "markdown",
   "metadata": {},
   "source": [
    "# Define Parameters"
   ]
  },
  {
   "cell_type": "code",
   "execution_count": 2,
   "metadata": {},
   "outputs": [],
   "source": [
    "path_to_corpus = \"../data/rebetiko_corpus.json\"\n",
    "output_path = \"../data/subcorpora/trend_analysis/\"\n",
    "\n",
    "output_path = pathlib.Path(output_path)\n",
    "output_path.mkdir(exist_ok=True, parents=True)"
   ]
  },
  {
   "cell_type": "markdown",
   "metadata": {},
   "source": [
    "## Load the Rebetiko Corpus"
   ]
  },
  {
   "cell_type": "code",
   "execution_count": 3,
   "metadata": {},
   "outputs": [],
   "source": [
    "with open(path_to_corpus) as f:\n",
    "    corpus_data = json.load(f)\n",
    "\n",
    "corpus_data = corpus_data[\"RECORDS\"]"
   ]
  },
  {
   "cell_type": "markdown",
   "metadata": {},
   "source": [
    "## Export Lyrics by Year"
   ]
  },
  {
   "cell_type": "code",
   "execution_count": 4,
   "metadata": {},
   "outputs": [],
   "source": [
    "lyrics_by_year = defaultdict(str)\n",
    "\n",
    "adapted_output_path = output_path / \"lyrics_by_year\"\n",
    "adapted_output_path.mkdir(exist_ok=True, parents=True)\n",
    "\n",
    "counter = 0\n",
    "\n",
    "for song in corpus_data:\n",
    "    year = song[\"year\"]\n",
    "    if song[\"lyrics\"] is None:\n",
    "        continue\n",
    "    if song[\"year\"] is None:\n",
    "        continue\n",
    "\n",
    "    if year >= 1900 and year <= 2000:\n",
    "        lyrics_by_year[year] += song[\"lyrics\"] + \"\\n\\n\"\n",
    "\n",
    "for year, lyrics in lyrics_by_year.items():\n",
    "    filename = str(year) + \".txt\"\n",
    "\n",
    "    output_file = open(adapted_output_path / filename, \"w\")\n",
    "    output_file.write(lyrics)\n",
    "    output_file.close()"
   ]
  },
  {
   "cell_type": "markdown",
   "metadata": {},
   "source": [
    "## Export Lyrics by Epoch"
   ]
  },
  {
   "cell_type": "code",
   "execution_count": 5,
   "metadata": {},
   "outputs": [],
   "source": [
    "lyrics_by_decade = defaultdict(str)\n",
    "lyrics_by_quinquennial = defaultdict(str)\n",
    "\n",
    "for song in corpus_data:\n",
    "    if song[\"year\"] is None:\n",
    "        continue\n",
    "    if song[\"lyrics\"] is None:\n",
    "        continue\n",
    "    if song[\"year\"] <= 0:\n",
    "        continue\n",
    "\n",
    "    year = song[\"year\"]\n",
    "\n",
    "    decade = int(math.ceil((int(year) - 9) / 10.0)) * 10\n",
    "    quinquennial = int(math.ceil((int(year) - 4) / 5.0)) * 5\n",
    "\n",
    "    lyrics_by_decade[decade] += song[\"lyrics\"] + \"\\n\\n\"\n",
    "    lyrics_by_quinquennial[quinquennial] += song[\"lyrics\"] + \"\\n\\n\"\n",
    "\n",
    "adapted_output_path = output_path / \"decades\"\n",
    "adapted_output_path.mkdir(exist_ok=True, parents=True)\n",
    "\n",
    "for decade, lyrics in lyrics_by_decade.items():\n",
    "    filename = str(decade) + \"-\" + str(decade + 9) + \".txt\"\n",
    "\n",
    "    output_file = open(adapted_output_path / filename, \"w\")\n",
    "    output_file.write(lyrics)\n",
    "    output_file.close()\n",
    "\n",
    "adapted_output_path = output_path / \"quinquennials\"\n",
    "adapted_output_path.mkdir(exist_ok=True, parents=True)\n",
    "\n",
    "for quinquennial, lyrics in lyrics_by_quinquennial.items():\n",
    "    filename = str(quinquennial) + \"-\" + str(quinquennial + 4) + \".txt\"\n",
    "\n",
    "    output_file = open(adapted_output_path / filename, \"w\")\n",
    "    output_file.write(lyrics)\n",
    "    output_file.close()\n"
   ]
  },
  {
   "cell_type": "markdown",
   "metadata": {},
   "source": [
    "## Write Lyrics for Defined Timespans"
   ]
  },
  {
   "cell_type": "code",
   "execution_count": 6,
   "metadata": {},
   "outputs": [],
   "source": [
    "timespans = [\n",
    "    (1922, 1932),\n",
    "    (1906, 1932),\n",
    "    (1906, 1935),\n",
    "    (1933, 1935),\n",
    "    (1936, 1941),\n",
    "    (1942, 1945),\n",
    "    (1922, 1932),\n",
    "    (1942, 1946),\n",
    "    (1946, 1946),\n",
    "    (1947, 1960),\n",
    "    (1942, 1960),\n",
    "    (1946, 1960),\n",
    "    (1960, 1974),\n",
    "    (1960, 1979),\n",
    "    (1947, 1974),\n",
    "    (1942, 1974),\n",
    "    (1947, 1974),\n",
    "    (1980, 1992),\n",
    "    (1974, 1992),\n",
    "    (1900, 1909),\n",
    "    (1910, 1919),\n",
    "    (1920, 1929),\n",
    "    (1930, 1939),\n",
    "    (1940, 1949),\n",
    "    (1950, 1959),\n",
    "    (1960, 1969),\n",
    "    (1970, 1979),\n",
    "    (1980, 1989),\n",
    "    (1990, 1999),\n",
    "]\n",
    "\n",
    "lyrics_by_timespan = defaultdict(str)\n",
    "\n",
    "for timespan in timespans:\n",
    "\n",
    "    for song in corpus_data:\n",
    "        year = song[\"year\"]\n",
    "        if song[\"lyrics\"] is None:\n",
    "            continue\n",
    "\n",
    "        if year is not None:\n",
    "            if year >= timespan[0] and year <= timespan[1]:\n",
    "                lyrics_by_timespan[timespan] += song[\"lyrics\"] + \"\\n\\n\"\n",
    "\n",
    "adapted_output_path = output_path / \"timespans\"\n",
    "adapted_output_path.mkdir(exist_ok=True, parents=True)\n",
    "\n",
    "for timespan, lyrics in lyrics_by_timespan.items():\n",
    "    filename = str(timespan[0]) + \"-\" + str(timespan[1]) + \".txt\"\n",
    "\n",
    "    output_file = open(adapted_output_path / filename, \"w\")\n",
    "    output_file.write(lyrics)\n",
    "    output_file.close()"
   ]
  },
  {
   "cell_type": "markdown",
   "metadata": {},
   "source": [
    "## Write all Lyrics to Single File"
   ]
  },
  {
   "cell_type": "code",
   "execution_count": 7,
   "metadata": {},
   "outputs": [],
   "source": [
    "all_lyrics = \"\"\n",
    "\n",
    "for song in corpus_data:\n",
    "    if song[\"lyrics\"] is None:\n",
    "        continue\n",
    "\n",
    "    all_lyrics += song[\"lyrics\"]\n",
    "    all_lyrics += \"\\n\\n\"\n",
    "\n",
    "output_file = open(output_path / \"all_lyrics.txt\", \"w\")\n",
    "output_file.write(all_lyrics)\n",
    "output_file.close()"
   ]
  }
 ],
 "metadata": {
  "interpreter": {
   "hash": "c20ba47af329d1220201901998b578c58213ddf700c486dc8ac4040e0b024d51"
  },
  "kernelspec": {
   "display_name": "Python 3.8.12 ('spacy')",
   "language": "python",
   "name": "python3"
  },
  "language_info": {
   "codemirror_mode": {
    "name": "ipython",
    "version": 3
   },
   "file_extension": ".py",
   "mimetype": "text/x-python",
   "name": "python",
   "nbconvert_exporter": "python",
   "pygments_lexer": "ipython3",
   "version": "3.8.8"
  },
  "orig_nbformat": 4
 },
 "nbformat": 4,
 "nbformat_minor": 2
}
