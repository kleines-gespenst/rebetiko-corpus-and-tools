{
 "cells": [
  {
   "cell_type": "markdown",
   "metadata": {},
   "source": [
    "# Prepare Data for Word Clouds\n",
    "\n",
    "This notebook loads the Rebetiko Corpus and prepares the data for the generation of beautiful word clouds.\n",
    "\n",
    "It mainly does two things:\n",
    "- lemmatize the texts\n",
    "- remove stop words\n",
    "\n",
    "For better results I have added some extra stop words myself."
   ]
  },
  {
   "cell_type": "code",
   "execution_count": 1,
   "metadata": {},
   "outputs": [],
   "source": [
    "import spacy\n",
    "from spacy.language import Language\n",
    "from spacy.lookups import Lookups\n",
    "\n",
    "import pathlib\n",
    "import json\n",
    "from tqdm import tqdm\n",
    "\n",
    "nlp = spacy.load(\"el_core_news_lg\")"
   ]
  },
  {
   "cell_type": "markdown",
   "metadata": {},
   "source": [
    "## Define Parameters"
   ]
  },
  {
   "cell_type": "code",
   "execution_count": 3,
   "metadata": {},
   "outputs": [],
   "source": [
    "path_to_corpus = \"../data/rebetiko_corpus.json\"\n",
    "output_path = \"../data/subcorpora/wordcloud/\"\n",
    "\n",
    "output_path = pathlib.Path(output_path)\n",
    "output_path.mkdir(exist_ok=True, parents=True)"
   ]
  },
  {
   "cell_type": "markdown",
   "metadata": {},
   "source": [
    "## Define the Stop Words"
   ]
  },
  {
   "cell_type": "code",
   "execution_count": 4,
   "metadata": {},
   "outputs": [],
   "source": [
    "# Get default stop words from spacy\n",
    "default_stop_words = nlp.Defaults.stop_words\n",
    "\n",
    "# Define additional stop words\n",
    "additional_stopwords = [\"μου\",\"σου\",\"σ\\'\",\"κι\",\"απ\\'\",\"μ\\'\", \"\\'μ\\'\", \"ν\\'\",\"του\",\"σ\", \"γι\\'\", \"δώσ\\'\",\n",
    "\"θά\",\"μες\",\"σαι\",\"βρεις\", \"-\",\"σένανε\" ,\"διάφορα\",\"σύνθημα\", \"βλέπω\",\"δεις\", \"\\'ρθει\", \"κάν\\'\", \"λεν\\'\",\n",
    "\"πάω\",\"τ\",\"μ\",\"εσύ\",\"εσυ\",\"νά\",\"\\'χα\",\"την\",\"και\",\"τη\",\"είπες\", \"ς\",\"μια\",\"συ\", \"\\'συ\", \"τ\\'\", \"είν\\'\",\n",
    "\"ένα\",\"τι\",\"της\",\"σένα\",\"λες\",\"\\'χεις\",\"πες\",\"κάνω\",\"κάνει\",\"κάνεις\",\"έχεις\", \"έχω\",\"\\'χω\",\"στ\\'\", \"είδ\\'\",\n",
    "\"π\\'\",\"θε\",\"θες\",\"μες\",\"είδα\",\"είδες\",\"πήρες\",\"βρω\",\"ναι\",\"είν\",\"λέω\",\"πεις\", \"απ\",\"δως\",\"τ\", \"\\'χε\", \"\\'ναι\", \"μεσ\\'\",\n",
    "\"ρθω\",\"πάρει\",\"σα\",\"ε\",\"ξέρεις\",\"ξέρω\",\"δω\",\"άλλονε\",\"ό\",\"θ\\'\",\"έκανες\", \"πάει\", \"έχε\", \"είμ\\'\", \"τό\", \"μπορώ\",\n",
    "\"θέλει\",\"ποιος\",\"πει\",\"\\'γω\",\"ρθει\",\"πάρε\",\"πάρω\",\"μπορώ\",\"πας\",\"λες\",\"λένε\", \"λενε\", \"πάν\\'\", \"\\'χει\",\n",
    "\"βρήκα\",\"καμιά\",\"μένα\",\"κάνε\",\"γίνω\",\"λέγω\",\"έλεγα\",\"είπα\",\"τί\",\"τι\",\"\\'πα\", \"βρω\", \"\\'ν\\'\"]\n",
    "\n",
    "# Add them to spacy's list of stop words\n",
    "nlp.Defaults.stop_words.update(additional_stopwords)\n",
    "\n",
    "# Iterates over the words in the stop words list and resets the \"is_stop\" flag.\n",
    "for word in additional_stopwords:\n",
    "    lexeme = nlp.vocab[word]\n",
    "    lexeme.is_stop = True"
   ]
  },
  {
   "cell_type": "markdown",
   "metadata": {},
   "source": [
    "## Load the Rebetiko Corpus and Prepare Data for Processing"
   ]
  },
  {
   "cell_type": "code",
   "execution_count": 5,
   "metadata": {},
   "outputs": [],
   "source": [
    "with open(path_to_corpus) as f:\n",
    "    corpus_data = json.load(f)\n",
    "\n",
    "corpus_data = corpus_data[\"RECORDS\"]"
   ]
  },
  {
   "cell_type": "markdown",
   "metadata": {},
   "source": [
    "## Run Processing and Filter Stop Words"
   ]
  },
  {
   "cell_type": "code",
   "execution_count": 6,
   "metadata": {},
   "outputs": [
    {
     "name": "stderr",
     "output_type": "stream",
     "text": [
      "0it [00:00, ?it/s]"
     ]
    },
    {
     "name": "stdout",
     "output_type": "stream",
     "text": [
      "Processing data for all_composers\n"
     ]
    },
    {
     "name": "stderr",
     "output_type": "stream",
     "text": [
      "5097it [03:11, 26.66it/s] \n",
      "0it [00:00, ?it/s]"
     ]
    },
    {
     "name": "stdout",
     "output_type": "stream",
     "text": [
      "Processing data for Βασίλης Τσιτσάνης\n"
     ]
    },
    {
     "name": "stderr",
     "output_type": "stream",
     "text": [
      "582it [00:27, 20.95it/s]\n",
      "0it [00:00, ?it/s]"
     ]
    },
    {
     "name": "stdout",
     "output_type": "stream",
     "text": [
      "Processing data for Άγνωστος\n"
     ]
    },
    {
     "name": "stderr",
     "output_type": "stream",
     "text": [
      "498it [00:08, 58.70it/s] \n",
      "0it [00:00, ?it/s]"
     ]
    },
    {
     "name": "stdout",
     "output_type": "stream",
     "text": [
      "Processing data for Παναγιώτης Τούντας\n"
     ]
    },
    {
     "name": "stderr",
     "output_type": "stream",
     "text": [
      "427it [00:20, 20.75it/s]\n",
      "0it [00:00, ?it/s]"
     ]
    },
    {
     "name": "stdout",
     "output_type": "stream",
     "text": [
      "Processing data for Γιάννης Παπαϊωάννου\n"
     ]
    },
    {
     "name": "stderr",
     "output_type": "stream",
     "text": [
      "391it [00:12, 32.45it/s]\n",
      "0it [00:00, ?it/s]"
     ]
    },
    {
     "name": "stdout",
     "output_type": "stream",
     "text": [
      "Processing data for Μανώλης Χιώτης\n"
     ]
    },
    {
     "name": "stderr",
     "output_type": "stream",
     "text": [
      "331it [00:12, 25.74it/s]\n",
      "0it [00:00, ?it/s]"
     ]
    },
    {
     "name": "stdout",
     "output_type": "stream",
     "text": [
      "Processing data for Σπύρος Περιστέρης\n"
     ]
    },
    {
     "name": "stderr",
     "output_type": "stream",
     "text": [
      "255it [00:07, 32.12it/s]\n",
      "0it [00:00, ?it/s]"
     ]
    },
    {
     "name": "stdout",
     "output_type": "stream",
     "text": [
      "Processing data for Κώστας Σκαρβέλης\n"
     ]
    },
    {
     "name": "stderr",
     "output_type": "stream",
     "text": [
      "206it [00:09, 20.62it/s]\n",
      "0it [00:00, ?it/s]"
     ]
    },
    {
     "name": "stdout",
     "output_type": "stream",
     "text": [
      "Processing data for Μάρκος Βαμβακάρης\n"
     ]
    },
    {
     "name": "stderr",
     "output_type": "stream",
     "text": [
      "156it [00:07, 21.43it/s]\n",
      "0it [00:00, ?it/s]"
     ]
    },
    {
     "name": "stdout",
     "output_type": "stream",
     "text": [
      "Processing data for Γιάννης Δραγάτσης (Ογδοντάκης)\n"
     ]
    },
    {
     "name": "stderr",
     "output_type": "stream",
     "text": [
      "123it [00:03, 33.92it/s]\n",
      "0it [00:00, ?it/s]"
     ]
    },
    {
     "name": "stdout",
     "output_type": "stream",
     "text": [
      "Processing data for Απόστολος Καλδάρας\n"
     ]
    },
    {
     "name": "stderr",
     "output_type": "stream",
     "text": [
      "123it [00:04, 27.99it/s]\n",
      "0it [00:00, ?it/s]"
     ]
    },
    {
     "name": "stdout",
     "output_type": "stream",
     "text": [
      "Processing data for Κώστας Ρούκουνας\n"
     ]
    },
    {
     "name": "stderr",
     "output_type": "stream",
     "text": [
      "92it [00:02, 39.02it/s]\n",
      "0it [00:00, ?it/s]"
     ]
    },
    {
     "name": "stdout",
     "output_type": "stream",
     "text": [
      "Processing data for Μιχάλης Γενίτσαρης\n"
     ]
    },
    {
     "name": "stderr",
     "output_type": "stream",
     "text": [
      "91it [00:03, 27.24it/s]\n",
      "0it [00:00, ?it/s]"
     ]
    },
    {
     "name": "stdout",
     "output_type": "stream",
     "text": [
      "Processing data for Απόστολος Χατζηχρήστος\n"
     ]
    },
    {
     "name": "stderr",
     "output_type": "stream",
     "text": [
      "90it [00:03, 26.19it/s]\n",
      "0it [00:00, ?it/s]"
     ]
    },
    {
     "name": "stdout",
     "output_type": "stream",
     "text": [
      "Processing data for Αντώνης Διαμαντίδης (Νταλγκάς)\n"
     ]
    },
    {
     "name": "stderr",
     "output_type": "stream",
     "text": [
      "79it [00:02, 27.36it/s]\n",
      "0it [00:00, ?it/s]"
     ]
    },
    {
     "name": "stdout",
     "output_type": "stream",
     "text": [
      "Processing data for Στράτος Παγιουμτζής\n"
     ]
    },
    {
     "name": "stderr",
     "output_type": "stream",
     "text": [
      "78it [00:01, 45.66it/s]\n",
      "0it [00:00, ?it/s]"
     ]
    },
    {
     "name": "stdout",
     "output_type": "stream",
     "text": [
      "Processing data for Σταύρος Παντελίδης\n"
     ]
    },
    {
     "name": "stderr",
     "output_type": "stream",
     "text": [
      "92it [00:02, 31.57it/s]\n",
      "0it [00:00, ?it/s]"
     ]
    },
    {
     "name": "stdout",
     "output_type": "stream",
     "text": [
      "Processing data for Γιώργος Μητσάκης\n"
     ]
    },
    {
     "name": "stderr",
     "output_type": "stream",
     "text": [
      "77it [00:03, 21.31it/s]\n",
      "0it [00:00, ?it/s]"
     ]
    },
    {
     "name": "stdout",
     "output_type": "stream",
     "text": [
      "Processing data for Δημήτρης Σέμσης (Σαλονικιός)\n"
     ]
    },
    {
     "name": "stderr",
     "output_type": "stream",
     "text": [
      "62it [00:02, 21.53it/s]\n",
      "0it [00:00, ?it/s]"
     ]
    },
    {
     "name": "stdout",
     "output_type": "stream",
     "text": [
      "Processing data for Κώστας Καρίπης\n"
     ]
    },
    {
     "name": "stderr",
     "output_type": "stream",
     "text": [
      "61it [00:03, 18.74it/s]\n",
      "0it [00:00, ?it/s]"
     ]
    },
    {
     "name": "stdout",
     "output_type": "stream",
     "text": [
      "Processing data for Μανώλης Χρυσαφάκης\n"
     ]
    },
    {
     "name": "stderr",
     "output_type": "stream",
     "text": [
      "61it [00:01, 35.28it/s]\n",
      "0it [00:00, ?it/s]"
     ]
    },
    {
     "name": "stdout",
     "output_type": "stream",
     "text": [
      "Processing data for Σταύρος Τζουανάκος\n"
     ]
    },
    {
     "name": "stderr",
     "output_type": "stream",
     "text": [
      "59it [00:02, 23.03it/s]\n",
      "0it [00:00, ?it/s]"
     ]
    },
    {
     "name": "stdout",
     "output_type": "stream",
     "text": [
      "Processing data for Δημήτρης Γκόγκος (Μπαγιαντέρας)\n"
     ]
    },
    {
     "name": "stderr",
     "output_type": "stream",
     "text": [
      "55it [00:02, 26.05it/s]\n",
      "0it [00:00, ?it/s]"
     ]
    },
    {
     "name": "stdout",
     "output_type": "stream",
     "text": [
      "Processing data for Ιωάννα Γεωργακοπούλου\n"
     ]
    },
    {
     "name": "stderr",
     "output_type": "stream",
     "text": [
      "46it [00:02, 22.68it/s]\n",
      "0it [00:00, ?it/s]"
     ]
    },
    {
     "name": "stdout",
     "output_type": "stream",
     "text": [
      "Processing data for Αγάπιος Τομπούλης\n"
     ]
    },
    {
     "name": "stderr",
     "output_type": "stream",
     "text": [
      "42it [00:00, 108.91it/s]\n",
      "0it [00:00, ?it/s]"
     ]
    },
    {
     "name": "stdout",
     "output_type": "stream",
     "text": [
      "Processing data for Στέλιος Χρυσίνης\n"
     ]
    },
    {
     "name": "stderr",
     "output_type": "stream",
     "text": [
      "45it [00:01, 24.49it/s]\n",
      "0it [00:00, ?it/s]"
     ]
    },
    {
     "name": "stdout",
     "output_type": "stream",
     "text": [
      "Processing data for Γιώργος Κατσαρός (Θεολογίτης)\n"
     ]
    },
    {
     "name": "stderr",
     "output_type": "stream",
     "text": [
      "38it [00:00, 43.47it/s]\n",
      "0it [00:00, ?it/s]"
     ]
    },
    {
     "name": "stdout",
     "output_type": "stream",
     "text": [
      "Processing data for Βαγγέλης Παπάζογλου\n"
     ]
    },
    {
     "name": "stderr",
     "output_type": "stream",
     "text": [
      "31it [00:01, 17.56it/s]\n",
      "0it [00:00, ?it/s]"
     ]
    },
    {
     "name": "stdout",
     "output_type": "stream",
     "text": [
      "Processing data for Μπάμπης Μπακάλης\n"
     ]
    },
    {
     "name": "stderr",
     "output_type": "stream",
     "text": [
      "34it [00:01, 21.04it/s]\n",
      "32it [00:00, 252.11it/s]\n",
      "0it [00:00, ?it/s]"
     ]
    },
    {
     "name": "stdout",
     "output_type": "stream",
     "text": [
      "Processing data for Γεωργία Μηττάκη\n",
      "Processing data for Ιάκωβος Μοντανάρης\n"
     ]
    },
    {
     "name": "stderr",
     "output_type": "stream",
     "text": [
      "31it [00:01, 26.31it/s]\n",
      "0it [00:00, ?it/s]"
     ]
    },
    {
     "name": "stdout",
     "output_type": "stream",
     "text": [
      "Processing data for Γρηγόρης Ασίκης\n"
     ]
    },
    {
     "name": "stderr",
     "output_type": "stream",
     "text": [
      "26it [00:01, 20.90it/s]\n",
      "0it [00:00, ?it/s]"
     ]
    },
    {
     "name": "stdout",
     "output_type": "stream",
     "text": [
      "Processing data for Στελλάκης Περπινιάδης\n"
     ]
    },
    {
     "name": "stderr",
     "output_type": "stream",
     "text": [
      "30it [00:00, 35.11it/s]\n",
      "0it [00:00, ?it/s]"
     ]
    },
    {
     "name": "stdout",
     "output_type": "stream",
     "text": [
      "Processing data for Μαρίνος Γαβριήλ (Μαρινάκης)\n"
     ]
    },
    {
     "name": "stderr",
     "output_type": "stream",
     "text": [
      "13it [00:00, 56.37it/s]\n",
      "0it [00:00, ?it/s]"
     ]
    },
    {
     "name": "stdout",
     "output_type": "stream",
     "text": [
      "Processing data for Παναγιώτης Πετσάς\n"
     ]
    },
    {
     "name": "stderr",
     "output_type": "stream",
     "text": [
      "20it [00:00, 22.91it/s]\n"
     ]
    }
   ],
   "source": [
    "list_of_composers = [\"all_composers\", \"Βασίλης Τσιτσάνης\", \"Άγνωστος\", \"Παναγιώτης Τούντας\", \"Γιάννης Παπαϊωάννου\", \"Μανώλης Χιώτης\", \"Σπύρος Περιστέρης\", \"Κώστας Σκαρβέλης\", \"Μάρκος Βαμβακάρης\", \"Γιάννης Δραγάτσης (Ογδοντάκης)\", \"Απόστολος Καλδάρας\", \"Κώστας Ρούκουνας\", \"Μιχάλης Γενίτσαρης\", \"Απόστολος Χατζηχρήστος\", \"Αντώνης Διαμαντίδης (Νταλγκάς)\", \"Στράτος Παγιουμτζής\", \"Σταύρος Παντελίδης\", \"Γιώργος Μητσάκης\", \"Δημήτρης Σέμσης (Σαλονικιός)\", \"Κώστας Καρίπης\", \"Μανώλης Χρυσαφάκης\", \"Σταύρος Τζουανάκος\", \"Δημήτρης Γκόγκος (Μπαγιαντέρας)\", \"Ιωάννα Γεωργακοπούλου\", \"Αγάπιος Τομπούλης\", \"Στέλιος Χρυσίνης\", \"Γιώργος Κατσαρός (Θεολογίτης)\", \"Βαγγέλης Παπάζογλου\", \"Μπάμπης Μπακάλης\", \"Γεωργία Μηττάκη\", \"Ιάκωβος Μοντανάρης\", \"Γρηγόρης Ασίκης\", \"Στελλάκης Περπινιάδης\", \"Μαρίνος Γαβριήλ (Μαρινάκης)\", \"Παναγιώτης Πετσάς\"]\n",
    "\n",
    "\n",
    "for composer in list_of_composers:\n",
    "    print(\"Processing data for\", str(composer))\n",
    "\n",
    "    list_of_songs = []\n",
    "\n",
    "    for song in corpus_data:\n",
    "        if song[\"lyrics\"] is None:\n",
    "            continue\n",
    "        if composer == \"all_composers\":\n",
    "            list_of_songs.append(song[\"lyrics\"].lower())\n",
    "        elif song[\"composer\"] is not None and composer in song[\"composer\"]:\n",
    "            list_of_songs.append(song[\"lyrics\"].lower())\n",
    "\n",
    "    songs_with_all_lyrics = list_of_songs\n",
    "    songs_with_filtered_lyrics = []\n",
    "    songs_with_filtered_lyrics_nouns = []\n",
    "    songs_with_filtered_lyrics_nouns_lemmatized = []\n",
    "    songs_with_filtered_lyrics_verbs_lemmatized = []\n",
    "    songs_with_filtered_lyrics_lemmatized = []\n",
    "    songs_with_filtered_lyrics_verbs = []\n",
    "    songs_with_filtered_lyrics_adjectives = []\n",
    "    songs_with_filtered_lyrics_adjectives_lemmatized = []\n",
    "\n",
    "    docs = nlp.pipe(list_of_songs)\n",
    "\n",
    "    for doc in tqdm(docs):\n",
    "        tokens = [token.text for token in doc]\n",
    "        tokens_filtered = [token.text for token in doc if token.is_stop != True and token.is_punct != True]\n",
    "        nouns = [token.text for token in doc if token.is_stop != True and token.is_punct != True and (token.pos_ == \"NOUN\" or token.pos_ == \"PROPN\")]\n",
    "        verbs = [token.text for token in doc if token.is_stop != True and token.is_punct != True and token.pos_ == \"VERB\"]\n",
    "        adjectives = [token.text for token in doc if token.is_stop != True and token.is_punct != True and token.pos_ == \"ADJ\"]\n",
    "        corpus_lemmatized = [token.lemma_ for token in doc if token.is_stop != True and token.is_punct != True]\n",
    "        nouns_lemmatized = [token.lemma_ for token in doc if token.is_stop != True and token.is_punct != True and (token.pos_ == \"NOUN\" or token.pos_ == \"PROPN\")]\n",
    "        verbs_lemmatized = [token.lemma_ for token in doc if token.is_stop != True and token.is_punct != True and token.pos_ == \"VERB\"]\n",
    "        adjectives_lemmatized = [token.lemma_ for token in doc if token.is_stop != True and token.is_punct != True and token.pos_ == \"ADJ\"]\n",
    "\n",
    "        if len(tokens_filtered) > 0:\n",
    "            songs_with_filtered_lyrics.append(u' '.join(tokens_filtered))\n",
    "        if len(nouns) > 0:\n",
    "            songs_with_filtered_lyrics_nouns.append(u' '.join(nouns))\n",
    "        if len(nouns_lemmatized) > 0:\n",
    "            songs_with_filtered_lyrics_nouns_lemmatized.append(u' '.join(nouns_lemmatized))\n",
    "        if len(verbs) > 0:\n",
    "            songs_with_filtered_lyrics_verbs.append(u' '.join(verbs))\n",
    "        if len(corpus_lemmatized) > 0:\n",
    "            songs_with_filtered_lyrics_lemmatized.append(u' '.join(corpus_lemmatized))\n",
    "        if len(verbs_lemmatized) > 0:\n",
    "            songs_with_filtered_lyrics_verbs_lemmatized.append(u' '.join(verbs_lemmatized))\n",
    "        if len(adjectives_lemmatized) > 0:\n",
    "            songs_with_filtered_lyrics_adjectives_lemmatized.append(u' '.join(adjectives_lemmatized))\n",
    "        if len(adjectives) > 0:\n",
    "            songs_with_filtered_lyrics_adjectives.append(u' '.join(adjectives))\n",
    "\n",
    "\n",
    "    # Write to Files\n",
    "    files_to_write = [\n",
    "        (songs_with_all_lyrics, composer + \"_all.txt\"),\n",
    "        (songs_with_filtered_lyrics, composer + \"_filtered.txt\"),\n",
    "        (songs_with_filtered_lyrics_nouns, composer + \"_filtered_nouns.txt\"),\n",
    "        (songs_with_filtered_lyrics_lemmatized, composer + \"_filtered_lemmatized.txt\"),\n",
    "        (songs_with_filtered_lyrics_nouns_lemmatized, composer + \"_filtered_nouns_lemmatized.txt\"),\n",
    "        (songs_with_filtered_lyrics_verbs_lemmatized, composer + \"_filtered_verbs_lemmatized.txt\"),\n",
    "        (songs_with_filtered_lyrics_adjectives_lemmatized, composer + \"_filtered_adjectives_lemmatized.txt\"),\n",
    "        (songs_with_filtered_lyrics_verbs, composer + \"_filtered_verbs.txt\"),\n",
    "        (songs_with_filtered_lyrics_adjectives, composer + \"_filtered_adjectives.txt\"),\n",
    "    ]\n",
    "\n",
    "    for file_to_write in files_to_write:\n",
    "        all_lyrics = u\"\\n\\n\".join(file_to_write[0])\n",
    "\n",
    "        with open(output_path / file_to_write[1], \"w\") as file:\n",
    "            file.write(all_lyrics)"
   ]
  }
 ],
 "metadata": {
  "interpreter": {
   "hash": "06deb017aebb9a4d0304f7520270cdbffad12b1676cc6e8785bcfd8cda237e8d"
  },
  "kernelspec": {
   "display_name": "Python 3.8.12 64-bit (conda)",
   "name": "python3"
  },
  "language_info": {
   "codemirror_mode": {
    "name": "ipython",
    "version": 3
   },
   "file_extension": ".py",
   "mimetype": "text/x-python",
   "name": "python",
   "nbconvert_exporter": "python",
   "pygments_lexer": "ipython3",
   "version": "3.8.8"
  },
  "orig_nbformat": 4
 },
 "nbformat": 4,
 "nbformat_minor": 2
}
